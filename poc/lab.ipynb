{
 "cells": [
  {
   "cell_type": "code",
   "execution_count": 14,
   "metadata": {},
   "outputs": [],
   "source": [
    "from model import LinearModel\n",
    "import phe as paillier\n",
    "import json\n",
    "import time"
   ]
  },
  {
   "cell_type": "code",
   "execution_count": 5,
   "metadata": {},
   "outputs": [],
   "source": [
    "linearModel = LinearModel()"
   ]
  },
  {
   "cell_type": "code",
   "execution_count": 6,
   "metadata": {},
   "outputs": [
    {
     "data": {
      "text/plain": [
       "array([ 0.15318276,  0.11040434,  0.16509236,  0.01206011, -0.00332236,\n",
       "        0.02311403,  0.05003817, -0.00758351, -0.00437855, -0.01109837,\n",
       "       -0.1167506 ,  0.00674328, -0.00243288,  0.10466852, -0.00075916,\n",
       "       -0.00165628,  0.02821167,  0.04285777,  0.02512729, -0.00584689,\n",
       "       -0.01062548])"
      ]
     },
     "execution_count": 6,
     "metadata": {},
     "output_type": "execute_result"
    }
   ],
   "source": [
    "linearModel.getCoef()"
   ]
  },
  {
   "cell_type": "code",
   "execution_count": 13,
   "metadata": {},
   "outputs": [],
   "source": [
    "regression = linearModel.getResults()[0]"
   ]
  },
  {
   "cell_type": "code",
   "execution_count": 66,
   "metadata": {},
   "outputs": [
    {
     "name": "stdout",
     "output_type": "stream",
     "text": [
      "HighBP                   0.0\n",
      "HighChol                 0.0\n",
      "CholCheck                1.0\n",
      "BMI                     20.0\n",
      "Smoker                   1.0\n",
      "Stroke                   0.0\n",
      "HeartDiseaseorAttack     0.0\n",
      "PhysActivity             1.0\n",
      "Fruits                   0.0\n",
      "Veggies                  1.0\n",
      "HvyAlcoholConsump        0.0\n",
      "AnyHealthcare            1.0\n",
      "NoDocbcCost              0.0\n",
      "GenHlth                  2.0\n",
      "MentHlth                15.0\n",
      "PhysHlth                 0.0\n",
      "DiffWalk                 0.0\n",
      "Sex                      0.0\n",
      "Age                     10.0\n",
      "Education                5.0\n",
      "Income                   4.0\n",
      "Name: 11085, dtype: float64\n",
      "0.0\n"
     ]
    }
   ],
   "source": [
    "print(linearModel.X_test.iloc[1])\n",
    "print(linearModel.y_test.iloc[1])"
   ]
  },
  {
   "cell_type": "code",
   "execution_count": 52,
   "metadata": {},
   "outputs": [
    {
     "name": "stdout",
     "output_type": "stream",
     "text": [
      "For un-encrypted data:\n",
      "--- 0.0004352656277743253 seconds ---\n",
      "--- 0.4352656277743253 milisec ---\n"
     ]
    }
   ],
   "source": [
    "print(\"For un-encrypted data:\")\n",
    "\n",
    "times = []\n",
    "reps = 10\n",
    "x_test_100 = linearModel.X_test.head(100)\n",
    "\n",
    "for _ in range(0, reps+1):\n",
    "    start_time = time.time()\n",
    "    y_pred = regression.predict(x_test_100)\n",
    "    end_time = time.time()\n",
    "    times.append(end_time - start_time)\n",
    "    # print(\"Repetion num -\",_)\n",
    "    # print(\"--- %s seconds ---\" % (end_time - start_time))\n",
    "    # print(\"--- %s milisec ---\" % ((end_time - start_time)*1000))\n",
    "\n",
    "total_time = sum(times)\n",
    "avg_time = total_time / len(times)\n",
    "\n",
    "print(\"--- %s seconds ---\" % (avg_time))\n",
    "print(\"--- %s milisec ---\" % (avg_time * 1000))"
   ]
  },
  {
   "cell_type": "code",
   "execution_count": 54,
   "metadata": {},
   "outputs": [],
   "source": [
    "def storeKeys():\n",
    "    public_key, private_key = paillier.generate_paillier_keypair()\n",
    "    keys = {}\n",
    "    keys[\"public_key\"] = {\"n\": public_key.n}\n",
    "    keys[\"private_key\"] = {\"p\": private_key.p, \"q\": private_key.q}\n",
    "    with open(\"lab_userkeys.json\", \"w\") as file:\n",
    "        json.dump(keys, file)\n",
    "\n",
    "\n",
    "def getKeys():\n",
    "    with open(\"lab_userkeys.json\", \"r\") as file:\n",
    "        keys = json.load(file)\n",
    "        pub_key = paillier.PaillierPublicKey(n=int(keys[\"public_key\"][\"n\"]))\n",
    "        priv_key = paillier.PaillierPrivateKey(\n",
    "            pub_key, keys[\"private_key\"][\"p\"], keys[\"private_key\"][\"q\"]\n",
    "        )\n",
    "        return pub_key, priv_key\n",
    "\n",
    "\n",
    "def serializeData(public_key, data):\n",
    "    encrypted_data_list = [public_key.encrypt(x) for x in data]\n",
    "    encrypted_data = {}\n",
    "    encrypted_data[\"public_key\"] = {\"n\": public_key.n}\n",
    "    encrypted_data[\"values\"] = [\n",
    "        (str(x.ciphertext()), x.exponent) for x in encrypted_data_list\n",
    "    ]\n",
    "    serialized = json.dumps(encrypted_data)\n",
    "    return serialized"
   ]
  },
  {
   "cell_type": "code",
   "execution_count": 33,
   "metadata": {},
   "outputs": [
    {
     "name": "stdout",
     "output_type": "stream",
     "text": [
      "Printing keys and storing in json file.\n"
     ]
    }
   ],
   "source": [
    "print(\"Printing keys and storing in json file.\")\n",
    "storeKeys()"
   ]
  },
  {
   "cell_type": "code",
   "execution_count": 34,
   "metadata": {},
   "outputs": [
    {
     "name": "stdout",
     "output_type": "stream",
     "text": [
      "Key retrieved successfully!\n",
      "\tKey location: lab_userkeys.json\n",
      "\n"
     ]
    },
    {
     "data": {
      "text/plain": [
       "(<PaillierPublicKey 1130207542>,\n",
       " <PaillierPrivateKey for <PaillierPublicKey 1130207542>>)"
      ]
     },
     "execution_count": 34,
     "metadata": {},
     "output_type": "execute_result"
    }
   ],
   "source": [
    "pub_key, priv_key = getKeys()\n",
    "print(\"Key retrieved successfully!\")\n",
    "print(\"\\tKey location: lab_userkeys.json\\n\")\n",
    "\n",
    "pub_key, priv_key"
   ]
  },
  {
   "cell_type": "code",
   "execution_count": 55,
   "metadata": {},
   "outputs": [
    {
     "name": "stdout",
     "output_type": "stream",
     "text": [
      "Available test data points: 14139\n",
      "Desired   test data points: 100\n",
      "Time taken to encrypt test data and dump to file:\n",
      "--- 8.273035025596618 seconds ---\n",
      "--- 8273.035025596619 milisec ---\n"
     ]
    }
   ],
   "source": [
    "x = linearModel.X_test\n",
    "row_num = len(x)\n",
    "desired = 100\n",
    "print(\"Available test data points:\", row_num)\n",
    "print(\"Desired   test data points:\", desired)\n",
    "\n",
    "times = []\n",
    "\n",
    "for i in range(desired):\n",
    "    data_list = x.iloc[i].tolist()\n",
    "    start_time = time.time()\n",
    "    serialized = serializeData(public_key=pub_key, data=data_list)\n",
    "    end_time = time.time()\n",
    "    times.append(end_time - start_time)\n",
    "\n",
    "    filename = \"enc_data/data_\" + str(i) + \".json\"\n",
    "    with open(filename, \"w\") as file:\n",
    "        json.dump(serialized, file)\n",
    "\n",
    "\n",
    "total_time = sum(times)\n",
    "avg_time = total_time / len(times)\n",
    "\n",
    "print(\"Time taken to encrypt test data and dump to file:\")\n",
    "print(\"--- %s seconds ---\" % (avg_time))\n",
    "print(\"--- %s milisec ---\" % (avg_time * 1000))"
   ]
  },
  {
   "cell_type": "code",
   "execution_count": 62,
   "metadata": {},
   "outputs": [],
   "source": [
    "def getData(filename):\n",
    "    with open(filename, \"r\") as file:\n",
    "        d = json.load(file)\n",
    "    data = json.loads(d)\n",
    "    return data\n",
    "\n",
    "\n",
    "def computeData(filename):\n",
    "    data = getData(filename)\n",
    "    mycoef = linearModel.getCoef()\n",
    "    pk = data[\"public_key\"]\n",
    "    pubkey = paillier.PaillierPublicKey(n=int(pk[\"n\"]))\n",
    "    try:\n",
    "        enc_nums_rec = [\n",
    "            paillier.EncryptedNumber(pubkey, int(x[0], int(x[1]))) for x in data[\"values\"]\n",
    "        ]\n",
    "    except:\n",
    "        print(\"Error in:\", filename)\n",
    "        return\n",
    "    print(\"Enc Nums Rec:\\n\", enc_nums_rec)\n",
    "    \n",
    "    start_time = time.time()\n",
    "    results = sum([mycoef[i] * enc_nums_rec[i] for i in range(len(mycoef))])\n",
    "    end_time = time.time()\n",
    "    time_needed = end_time - start_time\n",
    "    return results, pubkey, time_needed\n",
    "\n",
    "\n",
    "def serverSerializeData(filename):\n",
    "    results, pubkey, time_needed = computeData(filename)\n",
    "    encrypted_data = {}\n",
    "    encrypted_data[\"pubkey\"] = {\"n\": pubkey.n}\n",
    "    encrypted_data[\"values\"] = (str(results.ciphertext()), results.exponent)\n",
    "    serialized = json.dumps(encrypted_data)\n",
    "    return serialized, time_needed"
   ]
  },
  {
   "cell_type": "code",
   "execution_count": 57,
   "metadata": {},
   "outputs": [
    {
     "name": "stdout",
     "output_type": "stream",
     "text": [
      "File count in `enc_data`: 100\n"
     ]
    }
   ],
   "source": [
    "import os\n",
    "\n",
    "dir_path = \"enc_data\"\n",
    "count = 0\n",
    "# Iterate directory\n",
    "for path in os.listdir(dir_path):\n",
    "    # check if current path is a file\n",
    "    if os.path.isfile(os.path.join(dir_path, path)):\n",
    "        count += 1\n",
    "print('File count in `enc_data`:', count)"
   ]
  },
  {
   "cell_type": "code",
   "execution_count": null,
   "metadata": {},
   "outputs": [],
   "source": [
    "times = []\n",
    "for i in range(2, min(count, desired)):\n",
    "    output_file = \"outputs/data_\" + str(i) + \".json\"\n",
    "    input_file = \"enc_data/data_\" + str(i) + \".json\"\n",
    "\n",
    "    output_data, time_needed = serverSerializeData(input_file)\n",
    "    times.append(time_needed)\n",
    "    with open(output_file, \"w\") as file:\n",
    "        json.dump(output_data, file)\n",
    "\n",
    "print(\"Result generated successfully for all files!\")\n",
    "\n",
    "total_time = sum(times)\n",
    "avg_time = total_time / len(times)\n",
    "\n",
    "print(\"Time taken to get result on test data:\")\n",
    "print(\"--- %s seconds ---\" % (avg_time))\n",
    "print(\"--- %s milisec ---\" % (avg_time * 1000))"
   ]
  },
  {
   "cell_type": "code",
   "execution_count": null,
   "metadata": {},
   "outputs": [],
   "source": [
    "dir_path = \"outputs\"\n",
    "count = 0\n",
    "# Iterate directory\n",
    "for path in os.listdir(dir_path):\n",
    "    # check if current path is a file\n",
    "    if os.path.isfile(os.path.join(dir_path, path)):\n",
    "        count += 1\n",
    "print('File count in `outputs`:', count)"
   ]
  },
  {
   "cell_type": "code",
   "execution_count": null,
   "metadata": {},
   "outputs": [],
   "source": [
    "def resultSerializeData(public_key, data):\n",
    "    encrypted_data_list = [public_key.encrypt(x) for x in data]\n",
    "    encrypted_data = {}\n",
    "    encrypted_data[\"public_key\"] = {\"n\": public_key.n}\n",
    "    encrypted_data[\"values\"] = [\n",
    "        (str(x.ciphertext()), x.exponent) for x in encrypted_data_list\n",
    "    ]\n",
    "    serialized = json.dumps(encrypted_data)\n",
    "    return serialized\n",
    "\n",
    "\n",
    "def loadAnswer(filename):\n",
    "    with open(filename, \"r\") as file:\n",
    "        ans = json.load(file)\n",
    "        answer = json.loads(ans)\n",
    "        return answer"
   ]
  },
  {
   "cell_type": "code",
   "execution_count": null,
   "metadata": {},
   "outputs": [],
   "source": [
    "times = []\n",
    "results = []\n",
    "for i in range(min(count, desired)):\n",
    "    output_file = \"outputs/data_\" + str(i) + \".json\"\n",
    "\n",
    "    answer_file = loadAnswer(output_file)\n",
    "    answer_key = paillier.PaillierPublicKey(n=int(answer_file[\"pubkey\"][\"n\"]))\n",
    "    answer = paillier.EncryptedNumber(\n",
    "        answer_key, int(answer_file[\"values\"][0]), int(answer_file[\"values\"][1])\n",
    "    )\n",
    "    if answer_key == pub_key:\n",
    "        start_time = time.time()\n",
    "        raw_output = priv_key.decrypt(answer)\n",
    "        end_time = time.time()\n",
    "        times.append(end_time - start_time)\n",
    "        results.append(raw_output)\n",
    "    \n",
    "    \n",
    "print(\"Result decrypted successfully for all files!\")\n",
    "\n",
    "total_time = sum(times)\n",
    "avg_time = total_time / len(times)\n",
    "\n",
    "print(\"Time taken to get result on test data:\")\n",
    "print(\"--- %s seconds ---\" % (avg_time))\n",
    "print(\"--- %s milisec ---\" % (avg_time * 1000))"
   ]
  }
 ],
 "metadata": {
  "kernelspec": {
   "display_name": "ppml",
   "language": "python",
   "name": "python3"
  },
  "language_info": {
   "codemirror_mode": {
    "name": "ipython",
    "version": 3
   },
   "file_extension": ".py",
   "mimetype": "text/x-python",
   "name": "python",
   "nbconvert_exporter": "python",
   "pygments_lexer": "ipython3",
   "version": "3.10.8"
  },
  "orig_nbformat": 4,
  "vscode": {
   "interpreter": {
    "hash": "bed065a4bd132fc12ae56d714e2f732a7f4c674f8dba9959c80a2623cb15d89a"
   }
  }
 },
 "nbformat": 4,
 "nbformat_minor": 2
}
